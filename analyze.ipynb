{
 "metadata": {
  "name": "",
  "signature": "sha256:35a20fddbe0c79307e51bdfdd5b3cae28554afc11ebf476372a159128d368a59"
 },
 "nbformat": 3,
 "nbformat_minor": 0,
 "worksheets": [
  {
   "cells": [
    {
     "cell_type": "markdown",
     "metadata": {},
     "source": [
      "Github code repository: https://github.com/wpli/plos_one_reviewers\n",
      "\n",
      "PLOS ONE published a list of its 2014 reviewers. See http://journals.plos.org/plosone/article?id=10.1371/journal.pone.0121093. "
     ]
    },
    {
     "cell_type": "code",
     "collapsed": true,
     "input": [
      "import codecs\n",
      "\n",
      "names = []\n",
      "with codecs.open( './journal.pone.0121093.s001.TXT', encoding='utf-8' ) as f:\n",
      "    for line in f:\n",
      "        names.append( line.strip('\\n') )\n",
      "\n",
      "del names[0]\n"
     ],
     "language": "python",
     "metadata": {},
     "outputs": [],
     "prompt_number": 3
    },
    {
     "cell_type": "markdown",
     "metadata": {},
     "source": [
      "Most common surnames: "
     ]
    },
    {
     "cell_type": "code",
     "collapsed": false,
     "input": [
      "import collections\n",
      "last_names = [ i.split()[-1] for i in names ]\n",
      "last_names_counts = collections.Counter( last_names ).items()\n",
      "last_names_counts.sort( key=lambda x:x[1], reverse=True)\n",
      "\n",
      "print last_names_counts[:50]\n",
      "\n"
     ],
     "language": "python",
     "metadata": {},
     "outputs": [
      {
       "output_type": "stream",
       "stream": "stdout",
       "text": [
        "[(u'Wang', 611), (u'Chen', 477), (u'Li', 467), (u'Zhang', 461), (u'Liu', 427), (u'Lee', 257), (u'Yang', 253), (u'Kim', 228), (u'Wu', 208), (u'Huang', 205), (u'Lin', 170), (u'Xu', 168), (u'Zhou', 160), (u'Zhao', 144), (u'Yu', 135), (u'Sun', 129), (u'Lu', 126), (u'Zhu', 119), (u'Smith', 116), (u'Hu', 116), (u'He', 113), (u'Jiang', 109), (u'Chang', 104), (u'Cheng', 102), (u'Ma', 100), (u'Park', 99), (u'Song', 93), (u'Tang', 91), (u'Guo', 90), (u'Gao', 87), (u'Zheng', 84), (u'Singh', 83), (u'Johnson', 83), (u'Brown', 80), (u'Jones', 79), (u'Chan', 78), (u'Han', 76), (u'Martin', 75), (u'Luo', 73), (u'Shi', 68), (u'Tan', 67), (u'Shen', 66), (u'Williams', 65), (u'Wong', 64), (u'Kumar', 64), (u'Wilson', 61), (u'Silva', 61), (u'Fu', 61), (u'Yan', 60), (u'Taylor', 59)]\n"
       ]
      }
     ],
     "prompt_number": 5
    },
    {
     "cell_type": "markdown",
     "metadata": {},
     "source": [
      "Most common first names:"
     ]
    },
    {
     "cell_type": "code",
     "collapsed": false,
     "input": [
      "first_names = [ tuple( i.split()[:-1] ) for i in names ]\n",
      "first_names_counts = collections.Counter( first_names ).items() \n",
      "first_names_counts.sort( key=lambda x:x[1], reverse=True )\n",
      "print first_names_counts[:50]"
     ],
     "language": "python",
     "metadata": {},
     "outputs": [
      {
       "output_type": "stream",
       "stream": "stdout",
       "text": [
        "[((u'David',), 892), ((u'Michael',), 834), ((u'John',), 529), ((u'Peter',), 509), ((u'Thomas',), 465), ((u'Robert',), 452), ((u'Daniel',), 429), ((u'James',), 393), ((u'Paul',), 374), ((u'Mark',), 344), ((u'Richard',), 309), ((u'Andrew',), 300), ((u'Martin',), 288), ((u'Christopher',), 267), ((u'William',), 249), ((u'Maria',), 243), ((u'Stephen',), 240), ((u'Matthew',), 239), ((u'Christian',), 209), ((u'Alexander',), 196), ((u'Brian',), 194), ((u'Steven',), 191), ((u'Anna',), 187), ((u'Eric',), 185), ((u'Jonathan',), 181), ((u'Andrea',), 181), ((u'Jennifer',), 176), ((u'Laura',), 173), ((u'Patrick',), 171), ((u'Joseph',), 159), ((u'Sarah',), 155), ((u'Jan',), 152), ((u'Marco',), 152), ((u'Andreas',), 151), ((u'George',), 145), ((u'Elizabeth',), 142), ((u'Charles',), 141), ((u'Scott',), 140), ((u'Stefan',), 138), ((u'Frank',), 138), ((u'Jason',), 137), ((u'Kevin',), 136), ((u'Antonio',), 135), ((u'Timothy',), 135), ((u'Anne',), 135), ((u'Benjamin',), 133), ((u'Marc',), 129), ((u'Susan',), 128), ((u'Chris',), 128), ((u'Simon',), 125)]\n"
       ]
      }
     ],
     "prompt_number": 8
    }
   ],
   "metadata": {}
  }
 ]
}